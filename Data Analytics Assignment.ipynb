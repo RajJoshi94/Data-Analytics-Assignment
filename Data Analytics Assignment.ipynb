{
 "cells": [
  {
   "cell_type": "code",
   "execution_count": 1,
   "id": "6c077b82",
   "metadata": {},
   "outputs": [],
   "source": [
    "import pandas as pd\n",
    "import numpy as np\n",
    "import matplotlib.pyplot as plt\n",
    "import seaborn as sns"
   ]
  },
  {
   "cell_type": "code",
   "execution_count": 2,
   "id": "3b7bd7cd",
   "metadata": {},
   "outputs": [
    {
     "name": "stdout",
     "output_type": "stream",
     "text": [
      "Requirement already satisfied: openpyxl in c:\\users\\raj94\\anaconda3\\lib\\site-packages (3.0.7)\n",
      "Requirement already satisfied: et-xmlfile in c:\\users\\raj94\\anaconda3\\lib\\site-packages (from openpyxl) (1.0.1)\n"
     ]
    }
   ],
   "source": [
    "!pip install openpyxl"
   ]
  },
  {
   "cell_type": "code",
   "execution_count": 3,
   "id": "ecb1835a",
   "metadata": {},
   "outputs": [
    {
     "name": "stdout",
     "output_type": "stream",
     "text": [
      "Name: openpyxl\n",
      "Version: 3.0.7\n",
      "Summary: A Python library to read/write Excel 2010 xlsx/xlsm files\n",
      "Home-page: https://openpyxl.readthedocs.io\n",
      "Author: See AUTHORS\n",
      "Author-email: charlie.clark@clark-consulting.eu\n",
      "License: MIT\n",
      "Location: c:\\users\\raj94\\anaconda3\\lib\\site-packages\n",
      "Requires: et-xmlfile\n",
      "Required-by: dtale\n",
      "Note: you may need to restart the kernel to use updated packages.\n"
     ]
    }
   ],
   "source": [
    "pip show openpyxl"
   ]
  },
  {
   "cell_type": "code",
   "execution_count": 4,
   "id": "e7fd1ee9",
   "metadata": {},
   "outputs": [],
   "source": [
    "import openpyxl"
   ]
  },
  {
   "cell_type": "code",
   "execution_count": 5,
   "id": "d70c2530",
   "metadata": {},
   "outputs": [],
   "source": [
    "#loading the file\n",
    "df = pd.read_excel(r'C:\\Users\\raj94\\Downloads\\DataAnalystInternAssignment.xlsx', engine='openpyxl')"
   ]
  },
  {
   "cell_type": "code",
   "execution_count": 6,
   "id": "dd2632bd",
   "metadata": {},
   "outputs": [],
   "source": [
    "#loading all the sheets\n",
    "user_details = pd.read_excel(r'C:\\Users\\raj94\\Downloads\\DataAnalystInternAssignment.xlsx', sheet_name=\"UserDetails.csv\")\n",
    "cooking_sessions = pd.read_excel(r'C:\\Users\\raj94\\Downloads\\DataAnalystInternAssignment.xlsx',sheet_name=\"CookingSessions.csv\")\n",
    "order_details = pd.read_excel(r'C:\\Users\\raj94\\Downloads\\DataAnalystInternAssignment.xlsx', sheet_name=\"OrderDetails.csv\")"
   ]
  },
  {
   "cell_type": "code",
   "execution_count": 7,
   "id": "70f5fc62",
   "metadata": {},
   "outputs": [
    {
     "name": "stdout",
     "output_type": "stream",
     "text": [
      "User ID              0\n",
      "User Name            0\n",
      "Age                  0\n",
      "Location             0\n",
      "Registration Date    0\n",
      "Phone                0\n",
      "Email                0\n",
      "Favorite Meal        0\n",
      "Total Orders         0\n",
      "dtype: int64\n",
      "Session ID         0\n",
      "User ID            0\n",
      "Dish Name          0\n",
      "Meal Type          0\n",
      "Session Start      0\n",
      "Session End        0\n",
      "Duration (mins)    0\n",
      "Session Rating     0\n",
      "dtype: int64\n",
      "Order ID        0\n",
      "User ID         0\n",
      "Order Date      0\n",
      "Meal Type       0\n",
      "Dish Name       0\n",
      "Order Status    0\n",
      "Amount (USD)    0\n",
      "Time of Day     0\n",
      "Rating          2\n",
      "Session ID      0\n",
      "dtype: int64\n"
     ]
    }
   ],
   "source": [
    "#checking for missing values\n",
    "print(user_details.isnull().sum())\n",
    "print(cooking_sessions.isnull().sum())\n",
    "print(order_details.isnull().sum())"
   ]
  },
  {
   "cell_type": "code",
   "execution_count": 8,
   "id": "c4de45fc",
   "metadata": {},
   "outputs": [
    {
     "name": "stdout",
     "output_type": "stream",
     "text": [
      "   Order ID User ID Order Date  Meal Type        Dish Name Order Status  \\\n",
      "0      1001    U001 2024-12-01     Dinner        Spaghetti    Completed   \n",
      "1      1002    U002 2024-12-01      Lunch     Caesar Salad    Completed   \n",
      "2      1003    U003 2024-12-02     Dinner  Grilled Chicken     Canceled   \n",
      "3      1004    U001 2024-12-02  Breakfast         Pancakes    Completed   \n",
      "4      1005    U004 2024-12-03      Lunch     Caesar Salad    Completed   \n",
      "\n",
      "   Amount (USD) Time of Day  Rating Session ID  \n",
      "0          15.0       Night     5.0       S001  \n",
      "1          10.0         Day     4.0       S002  \n",
      "2          12.5       Night     4.0       S003  \n",
      "3           8.0     Morning     4.0       S004  \n",
      "4           9.0         Day     4.0       S005  \n"
     ]
    }
   ],
   "source": [
    "#fill missing values with the mode\n",
    "order_details['Rating']= order_details['Rating'].fillna(4)\n",
    "print(order_details.head())"
   ]
  },
  {
   "cell_type": "code",
   "execution_count": 9,
   "id": "6a10ef83",
   "metadata": {},
   "outputs": [
    {
     "name": "stdout",
     "output_type": "stream",
     "text": [
      "  User ID      User Name  Age       Location Registration Date         Phone  \\\n",
      "0    U001  Alice Johnson   28       New York        2023-01-15  123-456-7890   \n",
      "1    U002      Bob Smith   35    Los Angeles        2023-02-20  987-654-3210   \n",
      "2    U003    Charlie Lee   42        Chicago        2023-03-10  555-123-4567   \n",
      "3    U004    David Brown   27  San Francisco        2023-04-05  444-333-2222   \n",
      "4    U005     Emma White   30        Seattle        2023-05-22  777-888-9999   \n",
      "5    U006    Frank Green   25         Austin        2023-06-15  888-777-6666   \n",
      "6    U007     Grace King   38         Boston        2023-07-02  999-888-7777   \n",
      "7    U008      Henry Lee   31          Miami        2023-08-11  101-202-3030   \n",
      "8    U009    Irene Moore   33         Dallas        2023-09-01  202-303-4040   \n",
      "9    U010     Jack White   29        Phoenix        2023-10-10  303-404-5050   \n",
      "\n",
      "               Email Favorite Meal  Total Orders  \n",
      "0    alice@email.com        Dinner            12  \n",
      "1      bob@email.com         Lunch             8  \n",
      "2  charlie@email.com     Breakfast            15  \n",
      "3    david@email.com        Dinner            10  \n",
      "4     emma@email.com         Lunch             9  \n",
      "5    frank@email.com        Dinner             7  \n",
      "6    grace@email.com     Breakfast            14  \n",
      "7    henry@email.com        Dinner             5  \n",
      "8    irene@email.com         Lunch             6  \n",
      "9     jack@email.com        Dinner             8  \n"
     ]
    }
   ],
   "source": [
    "#check for duplicates in user_details\n",
    "user_details = user_details.drop_duplicates()\n",
    "print(user_details)"
   ]
  },
  {
   "cell_type": "code",
   "execution_count": 10,
   "id": "1b48a2eb",
   "metadata": {},
   "outputs": [
    {
     "name": "stdout",
     "output_type": "stream",
     "text": [
      "   Session ID User ID        Dish Name  Meal Type       Session Start  \\\n",
      "0        S001    U001        Spaghetti     Dinner 2024-12-01 19:00:00   \n",
      "1        S002    U002     Caesar Salad      Lunch 2024-12-01 12:00:00   \n",
      "2        S003    U003  Grilled Chicken     Dinner 2024-12-02 19:30:00   \n",
      "3        S004    U001         Pancakes  Breakfast 2024-12-02 07:30:00   \n",
      "4        S005    U004     Caesar Salad      Lunch 2024-12-03 13:00:00   \n",
      "5        S006    U002        Spaghetti     Dinner 2024-12-03 18:30:00   \n",
      "6        S007    U005  Grilled Chicken     Dinner 2024-12-04 18:00:00   \n",
      "7        S008    U003    Veggie Burger      Lunch 2024-12-04 13:30:00   \n",
      "8        S009    U001  Grilled Chicken     Dinner 2024-12-05 19:00:00   \n",
      "9        S010    U002          Oatmeal  Breakfast 2024-12-05 07:00:00   \n",
      "10       S011    U003         Pancakes  Breakfast 2024-12-06 08:00:00   \n",
      "11       S012    U004        Spaghetti     Dinner 2024-12-06 19:00:00   \n",
      "12       S013    U005     Caesar Salad      Lunch 2024-12-07 12:30:00   \n",
      "13       S014    U006  Grilled Chicken     Dinner 2024-12-07 18:00:00   \n",
      "14       S015    U007        Spaghetti     Dinner 2024-12-08 19:30:00   \n",
      "15       S016    U008    Veggie Burger      Lunch 2024-12-08 13:30:00   \n",
      "\n",
      "           Session End  Duration (mins)  Session Rating  \n",
      "0  2024-12-01 19:30:00               30             4.5  \n",
      "1  2024-12-01 12:20:00               20             4.0  \n",
      "2  2024-12-02 20:10:00               40             4.8  \n",
      "3  2024-12-02 08:00:00               30             4.2  \n",
      "4  2024-12-03 13:15:00               15             4.7  \n",
      "5  2024-12-03 19:00:00               30             4.3  \n",
      "6  2024-12-04 18:45:00               45             4.6  \n",
      "7  2024-12-04 13:50:00               20             4.4  \n",
      "8  2024-12-05 19:40:00               40             4.9  \n",
      "9  2024-12-05 07:10:00               10             4.1  \n",
      "10 2024-12-06 08:30:00               30             4.6  \n",
      "11 2024-12-06 19:40:00               40             4.7  \n",
      "12 2024-12-07 13:00:00               30             4.4  \n",
      "13 2024-12-07 18:45:00               45             4.8  \n",
      "14 2024-12-08 20:10:00               40             5.0  \n",
      "15 2024-12-08 13:50:00               20             4.3  \n"
     ]
    }
   ],
   "source": [
    "#check for duplicates in Cooking_sessions\n",
    "cooking_sessions = cooking_sessions.drop_duplicates()\n",
    "print(cooking_sessions)"
   ]
  },
  {
   "cell_type": "code",
   "execution_count": 11,
   "id": "b7d7e7f7",
   "metadata": {},
   "outputs": [
    {
     "name": "stdout",
     "output_type": "stream",
     "text": [
      "    Order ID User ID Order Date  Meal Type        Dish Name Order Status  \\\n",
      "0       1001    U001 2024-12-01     Dinner        Spaghetti    Completed   \n",
      "1       1002    U002 2024-12-01      Lunch     Caesar Salad    Completed   \n",
      "2       1003    U003 2024-12-02     Dinner  Grilled Chicken     Canceled   \n",
      "3       1004    U001 2024-12-02  Breakfast         Pancakes    Completed   \n",
      "4       1005    U004 2024-12-03      Lunch     Caesar Salad    Completed   \n",
      "5       1006    U002 2024-12-03     Dinner        Spaghetti    Completed   \n",
      "6       1007    U005 2024-12-04     Dinner  Grilled Chicken    Completed   \n",
      "7       1008    U003 2024-12-04      Lunch    Veggie Burger     Canceled   \n",
      "8       1009    U001 2024-12-05     Dinner  Grilled Chicken    Completed   \n",
      "9       1010    U002 2024-12-05  Breakfast          Oatmeal    Completed   \n",
      "10      1011    U003 2024-12-06  Breakfast         Pancakes    Completed   \n",
      "11      1012    U004 2024-12-06     Dinner        Spaghetti    Completed   \n",
      "12      1013    U005 2024-12-07      Lunch     Caesar Salad    Completed   \n",
      "13      1014    U006 2024-12-07     Dinner  Grilled Chicken    Completed   \n",
      "14      1015    U007 2024-12-08     Dinner        Spaghetti    Completed   \n",
      "15      1016    U008 2024-12-08      Lunch    Veggie Burger    Completed   \n",
      "\n",
      "    Amount (USD) Time of Day  Rating Session ID  \n",
      "0           15.0       Night     5.0       S001  \n",
      "1           10.0         Day     4.0       S002  \n",
      "2           12.5       Night     4.0       S003  \n",
      "3            8.0     Morning     4.0       S004  \n",
      "4            9.0         Day     4.0       S005  \n",
      "5           14.0       Night     4.0       S006  \n",
      "6           13.5       Night     4.0       S007  \n",
      "7           11.0         Day     4.0       S008  \n",
      "8           12.0       Night     5.0       S009  \n",
      "9            7.0     Morning     4.0       S010  \n",
      "10           8.5     Morning     4.0       S011  \n",
      "11          12.5       Night     4.0       S012  \n",
      "12           9.0         Day     4.0       S013  \n",
      "13          13.0       Night     5.0       S014  \n",
      "14          14.0       Night     5.0       S015  \n",
      "15          11.0         Day     4.0       S016  \n"
     ]
    }
   ],
   "source": [
    "#check for duplicates in order_details\n",
    "order_details = order_details.drop_duplicates()\n",
    "print(order_details)"
   ]
  },
  {
   "cell_type": "code",
   "execution_count": 12,
   "id": "22b612b0",
   "metadata": {},
   "outputs": [
    {
     "name": "stdout",
     "output_type": "stream",
     "text": [
      "    Order ID User ID_order Order Date Meal Type_order  Dish Name_order  \\\n",
      "0       1001          U001 2024-12-01          Dinner        Spaghetti   \n",
      "1       1002          U002 2024-12-01           Lunch     Caesar Salad   \n",
      "2       1003          U003 2024-12-02          Dinner  Grilled Chicken   \n",
      "3       1004          U001 2024-12-02       Breakfast         Pancakes   \n",
      "4       1005          U004 2024-12-03           Lunch     Caesar Salad   \n",
      "5       1006          U002 2024-12-03          Dinner        Spaghetti   \n",
      "6       1007          U005 2024-12-04          Dinner  Grilled Chicken   \n",
      "7       1008          U003 2024-12-04           Lunch    Veggie Burger   \n",
      "8       1009          U001 2024-12-05          Dinner  Grilled Chicken   \n",
      "9       1010          U002 2024-12-05       Breakfast          Oatmeal   \n",
      "10      1011          U003 2024-12-06       Breakfast         Pancakes   \n",
      "11      1012          U004 2024-12-06          Dinner        Spaghetti   \n",
      "12      1013          U005 2024-12-07           Lunch     Caesar Salad   \n",
      "13      1014          U006 2024-12-07          Dinner  Grilled Chicken   \n",
      "14      1015          U007 2024-12-08          Dinner        Spaghetti   \n",
      "15      1016          U008 2024-12-08           Lunch    Veggie Burger   \n",
      "\n",
      "   Order Status  Amount (USD) Time of Day  Rating Session ID User ID_session  \\\n",
      "0     Completed          15.0       Night     5.0       S001            U001   \n",
      "1     Completed          10.0         Day     4.0       S002            U002   \n",
      "2      Canceled          12.5       Night     4.0       S003            U003   \n",
      "3     Completed           8.0     Morning     4.0       S004            U001   \n",
      "4     Completed           9.0         Day     4.0       S005            U004   \n",
      "5     Completed          14.0       Night     4.0       S006            U002   \n",
      "6     Completed          13.5       Night     4.0       S007            U005   \n",
      "7      Canceled          11.0         Day     4.0       S008            U003   \n",
      "8     Completed          12.0       Night     5.0       S009            U001   \n",
      "9     Completed           7.0     Morning     4.0       S010            U002   \n",
      "10    Completed           8.5     Morning     4.0       S011            U003   \n",
      "11    Completed          12.5       Night     4.0       S012            U004   \n",
      "12    Completed           9.0         Day     4.0       S013            U005   \n",
      "13    Completed          13.0       Night     5.0       S014            U006   \n",
      "14    Completed          14.0       Night     5.0       S015            U007   \n",
      "15    Completed          11.0         Day     4.0       S016            U008   \n",
      "\n",
      "   Dish Name_session Meal Type_session       Session Start  \\\n",
      "0          Spaghetti            Dinner 2024-12-01 19:00:00   \n",
      "1       Caesar Salad             Lunch 2024-12-01 12:00:00   \n",
      "2    Grilled Chicken            Dinner 2024-12-02 19:30:00   \n",
      "3           Pancakes         Breakfast 2024-12-02 07:30:00   \n",
      "4       Caesar Salad             Lunch 2024-12-03 13:00:00   \n",
      "5          Spaghetti            Dinner 2024-12-03 18:30:00   \n",
      "6    Grilled Chicken            Dinner 2024-12-04 18:00:00   \n",
      "7      Veggie Burger             Lunch 2024-12-04 13:30:00   \n",
      "8    Grilled Chicken            Dinner 2024-12-05 19:00:00   \n",
      "9            Oatmeal         Breakfast 2024-12-05 07:00:00   \n",
      "10          Pancakes         Breakfast 2024-12-06 08:00:00   \n",
      "11         Spaghetti            Dinner 2024-12-06 19:00:00   \n",
      "12      Caesar Salad             Lunch 2024-12-07 12:30:00   \n",
      "13   Grilled Chicken            Dinner 2024-12-07 18:00:00   \n",
      "14         Spaghetti            Dinner 2024-12-08 19:30:00   \n",
      "15     Veggie Burger             Lunch 2024-12-08 13:30:00   \n",
      "\n",
      "           Session End  Duration (mins)  Session Rating  \n",
      "0  2024-12-01 19:30:00               30             4.5  \n",
      "1  2024-12-01 12:20:00               20             4.0  \n",
      "2  2024-12-02 20:10:00               40             4.8  \n",
      "3  2024-12-02 08:00:00               30             4.2  \n",
      "4  2024-12-03 13:15:00               15             4.7  \n",
      "5  2024-12-03 19:00:00               30             4.3  \n",
      "6  2024-12-04 18:45:00               45             4.6  \n",
      "7  2024-12-04 13:50:00               20             4.4  \n",
      "8  2024-12-05 19:40:00               40             4.9  \n",
      "9  2024-12-05 07:10:00               10             4.1  \n",
      "10 2024-12-06 08:30:00               30             4.6  \n",
      "11 2024-12-06 19:40:00               40             4.7  \n",
      "12 2024-12-07 13:00:00               30             4.4  \n",
      "13 2024-12-07 18:45:00               45             4.8  \n",
      "14 2024-12-08 20:10:00               40             5.0  \n",
      "15 2024-12-08 13:50:00               20             4.3  \n"
     ]
    }
   ],
   "source": [
    "#Merge OrderDetails and CookingSessions\n",
    "merged_data = order_details.merge(cooking_sessions, on=\"Session ID\", how=\"left\", suffixes=('_order', '_session'))\n",
    "print(merged_data)"
   ]
  },
  {
   "cell_type": "code",
   "execution_count": 13,
   "id": "eb41020e",
   "metadata": {},
   "outputs": [],
   "source": [
    "# Merge the merged_data with UserDetails on 'User ID'\n",
    "final_merged_data = merged_data.merge(user_details, left_on='User ID_order', right_on='User ID', how='left')"
   ]
  },
  {
   "cell_type": "code",
   "execution_count": 14,
   "id": "3c2deffc",
   "metadata": {},
   "outputs": [
    {
     "name": "stdout",
     "output_type": "stream",
     "text": [
      "Final Merged Data Columns: ['Order ID', 'User ID_order', 'Order Date', 'Meal Type_order', 'Dish Name_order', 'Order Status', 'Amount (USD)', 'Time of Day', 'Rating', 'Session ID', 'User ID_session', 'Dish Name_session', 'Meal Type_session', 'Session Start', 'Session End', 'Duration (mins)', 'Session Rating', 'User ID', 'User Name', 'Age', 'Location', 'Registration Date', 'Phone', 'Email', 'Favorite Meal', 'Total Orders']\n"
     ]
    }
   ],
   "source": [
    "# Check the final merged data columns\n",
    "print(\"Final Merged Data Columns:\", final_merged_data.columns.tolist())"
   ]
  },
  {
   "cell_type": "code",
   "execution_count": 17,
   "id": "6df3f1e0",
   "metadata": {},
   "outputs": [
    {
     "data": {
      "text/html": [
       "<div>\n",
       "<style scoped>\n",
       "    .dataframe tbody tr th:only-of-type {\n",
       "        vertical-align: middle;\n",
       "    }\n",
       "\n",
       "    .dataframe tbody tr th {\n",
       "        vertical-align: top;\n",
       "    }\n",
       "\n",
       "    .dataframe thead th {\n",
       "        text-align: right;\n",
       "    }\n",
       "</style>\n",
       "<table border=\"1\" class=\"dataframe\">\n",
       "  <thead>\n",
       "    <tr style=\"text-align: right;\">\n",
       "      <th></th>\n",
       "      <th>Order ID</th>\n",
       "      <th>User ID_order</th>\n",
       "      <th>Order Date</th>\n",
       "      <th>Meal Type_order</th>\n",
       "      <th>Dish Name_order</th>\n",
       "      <th>Order Status</th>\n",
       "      <th>Amount (USD)</th>\n",
       "      <th>Time of Day</th>\n",
       "      <th>Rating</th>\n",
       "      <th>Session ID</th>\n",
       "      <th>...</th>\n",
       "      <th>Session Rating</th>\n",
       "      <th>User ID</th>\n",
       "      <th>User Name</th>\n",
       "      <th>Age</th>\n",
       "      <th>Location</th>\n",
       "      <th>Registration Date</th>\n",
       "      <th>Phone</th>\n",
       "      <th>Email</th>\n",
       "      <th>Favorite Meal</th>\n",
       "      <th>Total Orders</th>\n",
       "    </tr>\n",
       "  </thead>\n",
       "  <tbody>\n",
       "    <tr>\n",
       "      <th>0</th>\n",
       "      <td>1001</td>\n",
       "      <td>U001</td>\n",
       "      <td>2024-12-01</td>\n",
       "      <td>Dinner</td>\n",
       "      <td>Spaghetti</td>\n",
       "      <td>Completed</td>\n",
       "      <td>15.0</td>\n",
       "      <td>Night</td>\n",
       "      <td>5.0</td>\n",
       "      <td>S001</td>\n",
       "      <td>...</td>\n",
       "      <td>4.5</td>\n",
       "      <td>U001</td>\n",
       "      <td>Alice Johnson</td>\n",
       "      <td>28</td>\n",
       "      <td>New York</td>\n",
       "      <td>2023-01-15</td>\n",
       "      <td>123-456-7890</td>\n",
       "      <td>alice@email.com</td>\n",
       "      <td>Dinner</td>\n",
       "      <td>12</td>\n",
       "    </tr>\n",
       "    <tr>\n",
       "      <th>1</th>\n",
       "      <td>1002</td>\n",
       "      <td>U002</td>\n",
       "      <td>2024-12-01</td>\n",
       "      <td>Lunch</td>\n",
       "      <td>Caesar Salad</td>\n",
       "      <td>Completed</td>\n",
       "      <td>10.0</td>\n",
       "      <td>Day</td>\n",
       "      <td>4.0</td>\n",
       "      <td>S002</td>\n",
       "      <td>...</td>\n",
       "      <td>4.0</td>\n",
       "      <td>U002</td>\n",
       "      <td>Bob Smith</td>\n",
       "      <td>35</td>\n",
       "      <td>Los Angeles</td>\n",
       "      <td>2023-02-20</td>\n",
       "      <td>987-654-3210</td>\n",
       "      <td>bob@email.com</td>\n",
       "      <td>Lunch</td>\n",
       "      <td>8</td>\n",
       "    </tr>\n",
       "    <tr>\n",
       "      <th>2</th>\n",
       "      <td>1003</td>\n",
       "      <td>U003</td>\n",
       "      <td>2024-12-02</td>\n",
       "      <td>Dinner</td>\n",
       "      <td>Grilled Chicken</td>\n",
       "      <td>Canceled</td>\n",
       "      <td>12.5</td>\n",
       "      <td>Night</td>\n",
       "      <td>4.0</td>\n",
       "      <td>S003</td>\n",
       "      <td>...</td>\n",
       "      <td>4.8</td>\n",
       "      <td>U003</td>\n",
       "      <td>Charlie Lee</td>\n",
       "      <td>42</td>\n",
       "      <td>Chicago</td>\n",
       "      <td>2023-03-10</td>\n",
       "      <td>555-123-4567</td>\n",
       "      <td>charlie@email.com</td>\n",
       "      <td>Breakfast</td>\n",
       "      <td>15</td>\n",
       "    </tr>\n",
       "    <tr>\n",
       "      <th>3</th>\n",
       "      <td>1004</td>\n",
       "      <td>U001</td>\n",
       "      <td>2024-12-02</td>\n",
       "      <td>Breakfast</td>\n",
       "      <td>Pancakes</td>\n",
       "      <td>Completed</td>\n",
       "      <td>8.0</td>\n",
       "      <td>Morning</td>\n",
       "      <td>4.0</td>\n",
       "      <td>S004</td>\n",
       "      <td>...</td>\n",
       "      <td>4.2</td>\n",
       "      <td>U001</td>\n",
       "      <td>Alice Johnson</td>\n",
       "      <td>28</td>\n",
       "      <td>New York</td>\n",
       "      <td>2023-01-15</td>\n",
       "      <td>123-456-7890</td>\n",
       "      <td>alice@email.com</td>\n",
       "      <td>Dinner</td>\n",
       "      <td>12</td>\n",
       "    </tr>\n",
       "    <tr>\n",
       "      <th>4</th>\n",
       "      <td>1005</td>\n",
       "      <td>U004</td>\n",
       "      <td>2024-12-03</td>\n",
       "      <td>Lunch</td>\n",
       "      <td>Caesar Salad</td>\n",
       "      <td>Completed</td>\n",
       "      <td>9.0</td>\n",
       "      <td>Day</td>\n",
       "      <td>4.0</td>\n",
       "      <td>S005</td>\n",
       "      <td>...</td>\n",
       "      <td>4.7</td>\n",
       "      <td>U004</td>\n",
       "      <td>David Brown</td>\n",
       "      <td>27</td>\n",
       "      <td>San Francisco</td>\n",
       "      <td>2023-04-05</td>\n",
       "      <td>444-333-2222</td>\n",
       "      <td>david@email.com</td>\n",
       "      <td>Dinner</td>\n",
       "      <td>10</td>\n",
       "    </tr>\n",
       "  </tbody>\n",
       "</table>\n",
       "<p>5 rows × 26 columns</p>\n",
       "</div>"
      ],
      "text/plain": [
       "   Order ID User ID_order Order Date Meal Type_order  Dish Name_order  \\\n",
       "0      1001          U001 2024-12-01          Dinner        Spaghetti   \n",
       "1      1002          U002 2024-12-01           Lunch     Caesar Salad   \n",
       "2      1003          U003 2024-12-02          Dinner  Grilled Chicken   \n",
       "3      1004          U001 2024-12-02       Breakfast         Pancakes   \n",
       "4      1005          U004 2024-12-03           Lunch     Caesar Salad   \n",
       "\n",
       "  Order Status  Amount (USD) Time of Day  Rating Session ID  ...  \\\n",
       "0    Completed          15.0       Night     5.0       S001  ...   \n",
       "1    Completed          10.0         Day     4.0       S002  ...   \n",
       "2     Canceled          12.5       Night     4.0       S003  ...   \n",
       "3    Completed           8.0     Morning     4.0       S004  ...   \n",
       "4    Completed           9.0         Day     4.0       S005  ...   \n",
       "\n",
       "  Session Rating User ID      User Name Age       Location  Registration Date  \\\n",
       "0            4.5    U001  Alice Johnson  28       New York         2023-01-15   \n",
       "1            4.0    U002      Bob Smith  35    Los Angeles         2023-02-20   \n",
       "2            4.8    U003    Charlie Lee  42        Chicago         2023-03-10   \n",
       "3            4.2    U001  Alice Johnson  28       New York         2023-01-15   \n",
       "4            4.7    U004    David Brown  27  San Francisco         2023-04-05   \n",
       "\n",
       "          Phone              Email Favorite Meal  Total Orders  \n",
       "0  123-456-7890    alice@email.com        Dinner            12  \n",
       "1  987-654-3210      bob@email.com         Lunch             8  \n",
       "2  555-123-4567  charlie@email.com     Breakfast            15  \n",
       "3  123-456-7890    alice@email.com        Dinner            12  \n",
       "4  444-333-2222    david@email.com        Dinner            10  \n",
       "\n",
       "[5 rows x 26 columns]"
      ]
     },
     "execution_count": 17,
     "metadata": {},
     "output_type": "execute_result"
    }
   ],
   "source": [
    "final_merged_data.head() "
   ]
  },
  {
   "cell_type": "code",
   "execution_count": 15,
   "id": "2349da0b",
   "metadata": {},
   "outputs": [
    {
     "name": "stdout",
     "output_type": "stream",
     "text": [
      "<class 'pandas.core.frame.DataFrame'>\n",
      "Int64Index: 16 entries, 0 to 15\n",
      "Data columns (total 26 columns):\n",
      " #   Column             Non-Null Count  Dtype         \n",
      "---  ------             --------------  -----         \n",
      " 0   Order ID           16 non-null     int64         \n",
      " 1   User ID_order      16 non-null     object        \n",
      " 2   Order Date         16 non-null     datetime64[ns]\n",
      " 3   Meal Type_order    16 non-null     object        \n",
      " 4   Dish Name_order    16 non-null     object        \n",
      " 5   Order Status       16 non-null     object        \n",
      " 6   Amount (USD)       16 non-null     float64       \n",
      " 7   Time of Day        16 non-null     object        \n",
      " 8   Rating             16 non-null     float64       \n",
      " 9   Session ID         16 non-null     object        \n",
      " 10  User ID_session    16 non-null     object        \n",
      " 11  Dish Name_session  16 non-null     object        \n",
      " 12  Meal Type_session  16 non-null     object        \n",
      " 13  Session Start      16 non-null     datetime64[ns]\n",
      " 14  Session End        16 non-null     datetime64[ns]\n",
      " 15  Duration (mins)    16 non-null     int64         \n",
      " 16  Session Rating     16 non-null     float64       \n",
      " 17  User ID            16 non-null     object        \n",
      " 18  User Name          16 non-null     object        \n",
      " 19  Age                16 non-null     int64         \n",
      " 20  Location           16 non-null     object        \n",
      " 21  Registration Date  16 non-null     datetime64[ns]\n",
      " 22  Phone              16 non-null     object        \n",
      " 23  Email              16 non-null     object        \n",
      " 24  Favorite Meal      16 non-null     object        \n",
      " 25  Total Orders       16 non-null     int64         \n",
      "dtypes: datetime64[ns](4), float64(3), int64(4), object(15)\n",
      "memory usage: 3.4+ KB\n"
     ]
    }
   ],
   "source": [
    "# Check data types and null values\n",
    "final_merged_data.info()"
   ]
  },
  {
   "cell_type": "code",
   "execution_count": 16,
   "id": "ed4c5eb8",
   "metadata": {},
   "outputs": [
    {
     "data": {
      "text/html": [
       "<div>\n",
       "<style scoped>\n",
       "    .dataframe tbody tr th:only-of-type {\n",
       "        vertical-align: middle;\n",
       "    }\n",
       "\n",
       "    .dataframe tbody tr th {\n",
       "        vertical-align: top;\n",
       "    }\n",
       "\n",
       "    .dataframe thead th {\n",
       "        text-align: right;\n",
       "    }\n",
       "</style>\n",
       "<table border=\"1\" class=\"dataframe\">\n",
       "  <thead>\n",
       "    <tr style=\"text-align: right;\">\n",
       "      <th></th>\n",
       "      <th>Order ID</th>\n",
       "      <th>Amount (USD)</th>\n",
       "      <th>Rating</th>\n",
       "      <th>Duration (mins)</th>\n",
       "      <th>Session Rating</th>\n",
       "      <th>Age</th>\n",
       "      <th>Total Orders</th>\n",
       "    </tr>\n",
       "  </thead>\n",
       "  <tbody>\n",
       "    <tr>\n",
       "      <th>count</th>\n",
       "      <td>16.000000</td>\n",
       "      <td>16.000000</td>\n",
       "      <td>16.000000</td>\n",
       "      <td>16.000000</td>\n",
       "      <td>16.000000</td>\n",
       "      <td>16.000000</td>\n",
       "      <td>16.000000</td>\n",
       "    </tr>\n",
       "    <tr>\n",
       "      <th>mean</th>\n",
       "      <td>1008.500000</td>\n",
       "      <td>11.250000</td>\n",
       "      <td>4.250000</td>\n",
       "      <td>30.312500</td>\n",
       "      <td>4.518750</td>\n",
       "      <td>32.687500</td>\n",
       "      <td>10.562500</td>\n",
       "    </tr>\n",
       "    <tr>\n",
       "      <th>std</th>\n",
       "      <td>4.760952</td>\n",
       "      <td>2.435843</td>\n",
       "      <td>0.447214</td>\n",
       "      <td>10.873324</td>\n",
       "      <td>0.292617</td>\n",
       "      <td>5.839164</td>\n",
       "      <td>3.119161</td>\n",
       "    </tr>\n",
       "    <tr>\n",
       "      <th>min</th>\n",
       "      <td>1001.000000</td>\n",
       "      <td>7.000000</td>\n",
       "      <td>4.000000</td>\n",
       "      <td>10.000000</td>\n",
       "      <td>4.000000</td>\n",
       "      <td>25.000000</td>\n",
       "      <td>5.000000</td>\n",
       "    </tr>\n",
       "    <tr>\n",
       "      <th>25%</th>\n",
       "      <td>1004.750000</td>\n",
       "      <td>9.000000</td>\n",
       "      <td>4.000000</td>\n",
       "      <td>20.000000</td>\n",
       "      <td>4.300000</td>\n",
       "      <td>28.000000</td>\n",
       "      <td>8.000000</td>\n",
       "    </tr>\n",
       "    <tr>\n",
       "      <th>50%</th>\n",
       "      <td>1008.500000</td>\n",
       "      <td>11.500000</td>\n",
       "      <td>4.000000</td>\n",
       "      <td>30.000000</td>\n",
       "      <td>4.550000</td>\n",
       "      <td>30.500000</td>\n",
       "      <td>10.000000</td>\n",
       "    </tr>\n",
       "    <tr>\n",
       "      <th>75%</th>\n",
       "      <td>1012.250000</td>\n",
       "      <td>13.125000</td>\n",
       "      <td>4.250000</td>\n",
       "      <td>40.000000</td>\n",
       "      <td>4.725000</td>\n",
       "      <td>35.750000</td>\n",
       "      <td>12.500000</td>\n",
       "    </tr>\n",
       "    <tr>\n",
       "      <th>max</th>\n",
       "      <td>1016.000000</td>\n",
       "      <td>15.000000</td>\n",
       "      <td>5.000000</td>\n",
       "      <td>45.000000</td>\n",
       "      <td>5.000000</td>\n",
       "      <td>42.000000</td>\n",
       "      <td>15.000000</td>\n",
       "    </tr>\n",
       "  </tbody>\n",
       "</table>\n",
       "</div>"
      ],
      "text/plain": [
       "          Order ID  Amount (USD)     Rating  Duration (mins)  Session Rating  \\\n",
       "count    16.000000     16.000000  16.000000        16.000000       16.000000   \n",
       "mean   1008.500000     11.250000   4.250000        30.312500        4.518750   \n",
       "std       4.760952      2.435843   0.447214        10.873324        0.292617   \n",
       "min    1001.000000      7.000000   4.000000        10.000000        4.000000   \n",
       "25%    1004.750000      9.000000   4.000000        20.000000        4.300000   \n",
       "50%    1008.500000     11.500000   4.000000        30.000000        4.550000   \n",
       "75%    1012.250000     13.125000   4.250000        40.000000        4.725000   \n",
       "max    1016.000000     15.000000   5.000000        45.000000        5.000000   \n",
       "\n",
       "             Age  Total Orders  \n",
       "count  16.000000     16.000000  \n",
       "mean   32.687500     10.562500  \n",
       "std     5.839164      3.119161  \n",
       "min    25.000000      5.000000  \n",
       "25%    28.000000      8.000000  \n",
       "50%    30.500000     10.000000  \n",
       "75%    35.750000     12.500000  \n",
       "max    42.000000     15.000000  "
      ]
     },
     "execution_count": 16,
     "metadata": {},
     "output_type": "execute_result"
    }
   ],
   "source": [
    "# Get summary statistics for numerical columns\n",
    "final_merged_data.describe() "
   ]
  },
  {
   "cell_type": "code",
   "execution_count": 18,
   "id": "8afc39fd",
   "metadata": {},
   "outputs": [],
   "source": [
    "#Filter completed orders\n",
    "completed_orders = order_details[order_details['Order Status'] == 'Completed']"
   ]
  },
  {
   "cell_type": "code",
   "execution_count": 19,
   "id": "54795460",
   "metadata": {},
   "outputs": [],
   "source": [
    "#Group by Dish Name and count orders\n",
    "popular_dishes = completed_orders['Dish Name'].value_counts().reset_index()\n",
    "popular_dishes.columns = ['Dish Name', 'Order Count']"
   ]
  },
  {
   "cell_type": "code",
   "execution_count": 20,
   "id": "b9e25d53",
   "metadata": {},
   "outputs": [
    {
     "name": "stdout",
     "output_type": "stream",
     "text": [
      "         Dish Name  Order Count\n",
      "0        Spaghetti            4\n",
      "1     Caesar Salad            3\n",
      "2  Grilled Chicken            3\n",
      "3         Pancakes            2\n",
      "4          Oatmeal            1\n"
     ]
    }
   ],
   "source": [
    "#Display popular dishes\n",
    "print(popular_dishes.head())"
   ]
  },
  {
   "cell_type": "code",
   "execution_count": 21,
   "id": "105c245b",
   "metadata": {},
   "outputs": [
    {
     "data": {
      "image/png": "[encoded data removed]",
      "text/plain": [
       "<Figure size 720x432 with 1 Axes>"
      ]
     },
     "metadata": {
      "needs_background": "light"
     },
     "output_type": "display_data"
    }
   ],
   "source": [
    "#Plot the popular dishes\n",
    "top_5_dishes = popular_dishes.head()\n",
    "\n",
    "plt.figure(figsize=(10, 6))\n",
    "plt.bar(top_5_dishes['Dish Name'], top_5_dishes['Order Count'], color='coral', alpha=0.8)\n",
    "plt.title('Top Popular Dishes (Completed Orders)')\n",
    "plt.xlabel('Dish Name')\n",
    "plt.ylabel('Order Count')\n",
    "plt.xticks(rotation=45, ha='right')\n",
    "plt.grid(axis='y')\n",
    "plt.tight_layout()\n",
    "plt.show()"
   ]
  },
  {
   "cell_type": "code",
   "execution_count": 22,
   "id": "541d33aa",
   "metadata": {},
   "outputs": [],
   "source": [
    "# Group by Meal Type to calculate total orders\n",
    "meal_type_popularity = final_merged_data.groupby('Meal Type_order')['Order ID'].count().reset_index()\n",
    "meal_type_popularity.rename(columns={'Order ID': 'Total Orders'}, inplace=True)"
   ]
  },
  {
   "cell_type": "code",
   "execution_count": 23,
   "id": "e486cf14",
   "metadata": {},
   "outputs": [
    {
     "data": {
      "image/png": "[encoded data removed]",
      "text/plain": [
       "<Figure size 576x432 with 1 Axes>"
      ]
     },
     "metadata": {
      "needs_background": "light"
     },
     "output_type": "display_data"
    }
   ],
   "source": [
    "# Visualize popularity\n",
    "plt.figure(figsize=(8, 6))\n",
    "plt.bar(meal_type_popularity['Meal Type_order'], meal_type_popularity['Total Orders'], color='skyblue', alpha=0.8)\n",
    "plt.title('Meal Type Popularity in Orders')\n",
    "plt.xlabel('Meal Type')\n",
    "plt.ylabel('Total Orders')\n",
    "plt.grid(axis='y')\n",
    "plt.show()"
   ]
  },
  {
   "cell_type": "code",
   "execution_count": 24,
   "id": "4bd498bf",
   "metadata": {},
   "outputs": [],
   "source": [
    "# Group by Location and Favorite Meal\n",
    "location_meal_distribution = user_details.groupby(['Location', 'Favorite Meal']).size().reset_index(name='Count')"
   ]
  },
  {
   "cell_type": "code",
   "execution_count": 25,
   "id": "12cb304d",
   "metadata": {},
   "outputs": [
    {
     "data": {
      "image/png": "[encoded data removed]",
      "text/plain": [
       "<Figure size 864x432 with 1 Axes>"
      ]
     },
     "metadata": {
      "needs_background": "light"
     },
     "output_type": "display_data"
    }
   ],
   "source": [
    "# Visualize top locations\n",
    "top_locations = location_meal_distribution.groupby('Location')['Count'].sum().nlargest(5).index\n",
    "filtered_data = location_meal_distribution[location_meal_distribution['Location'].isin(top_locations)]\n",
    "plt.figure(figsize=(12, 6))\n",
    "sns.barplot(data=filtered_data, x='Location', y='Count', hue='Favorite Meal')\n",
    "plt.title('Favorite Meal Distribution by Location')\n",
    "plt.xlabel('Location')\n",
    "plt.ylabel('Count')\n",
    "plt.xticks(rotation=45)\n",
    "plt.grid(axis='y')\n",
    "plt.show()"
   ]
  },
  {
   "cell_type": "code",
   "execution_count": 26,
   "id": "99ef4ee7",
   "metadata": {},
   "outputs": [
    {
     "name": "stdout",
     "output_type": "stream",
     "text": [
      "  Time of Day  Count\n",
      "0       Night      7\n",
      "1         Day      4\n",
      "2     Morning      3\n"
     ]
    }
   ],
   "source": [
    "# Calculate the distribution of Time of Day in OrderDetails\n",
    "Time_of_Day_distribution = completed_orders['Time of Day'].value_counts().reset_index()\n",
    "Time_of_Day_distribution.columns = ['Time of Day', 'Count']\n",
    "print(Time_of_Day_distribution)"
   ]
  },
  {
   "cell_type": "code",
   "execution_count": 27,
   "id": "b5f9ab50",
   "metadata": {},
   "outputs": [
    {
     "data": {
      "image/png": "[encoded data removed]",
      "text/plain": [
       "<Figure size 576x576 with 1 Axes>"
      ]
     },
     "metadata": {},
     "output_type": "display_data"
    }
   ],
   "source": [
    "# Pie chart for Time of Day distribution\n",
    "plt.figure(figsize=(8, 8))\n",
    "plt.pie(Time_of_Day_distribution['Count'], labels=Time_of_Day_distribution['Time of Day'], autopct='%1.1f%%', colors=['gold', 'lightblue', 'pink'], startangle=90)\n",
    "plt.title('Time of Day distribution in Orders')\n",
    "plt.show()"
   ]
  },
  {
   "cell_type": "code",
   "execution_count": 28,
   "id": "c2c97ded",
   "metadata": {},
   "outputs": [
    {
     "name": "stdout",
     "output_type": "stream",
     "text": [
      "Highest Age: 42\n",
      "Lowest Age: 25\n"
     ]
    }
   ],
   "source": [
    "# Check the highest and lowest age in the UserDetails sheet\n",
    "max_age = user_details['Age'].max()\n",
    "min_age = user_details['Age'].min()\n",
    "\n",
    "print(f\"Highest Age: {max_age}\")\n",
    "print(f\"Lowest Age: {min_age}\")"
   ]
  },
  {
   "cell_type": "code",
   "execution_count": 29,
   "id": "e626bfb4",
   "metadata": {},
   "outputs": [],
   "source": [
    "# Add Age Group column\n",
    "def categorize_age(age):\n",
    "    if age <= 29:\n",
    "        return '25-29'\n",
    "    elif age <= 34:\n",
    "        return '30-34'\n",
    "    elif age <= 39:\n",
    "        return '35-39'\n",
    "    else:\n",
    "        return '40-42'\n",
    "user_details['Age Group'] = user_details['Age'].apply(categorize_age)"
   ]
  },
  {
   "cell_type": "code",
   "execution_count": 30,
   "id": "1444f2ba",
   "metadata": {},
   "outputs": [],
   "source": [
    "# Merge user details with order details\n",
    "merged_orders = order_details.merge(user_details, on='User ID', how='left')\n"
   ]
  },
  {
   "cell_type": "code",
   "execution_count": 31,
   "id": "fe57a3b3",
   "metadata": {},
   "outputs": [
    {
     "name": "stdout",
     "output_type": "stream",
     "text": [
      "  Age Group  Total_Orders  Total_Amount  Avg_Rating\n",
      "0     25-29             6          69.5        4.50\n",
      "1     30-34             3          33.5        4.00\n",
      "2     35-39             4          45.0        4.25\n",
      "3     40-42             3          32.0        4.00\n"
     ]
    }
   ],
   "source": [
    "# Group by Age Group and calculate metrics\n",
    "orders_by_age = merged_orders.groupby('Age Group').agg(\n",
    "    Total_Orders=('Order ID', 'count'),\n",
    "    Total_Amount=('Amount (USD)', 'sum'),\n",
    "    Avg_Rating=('Rating', 'mean')\n",
    ").reset_index()\n",
    "\n",
    "print(orders_by_age)"
   ]
  },
  {
   "cell_type": "code",
   "execution_count": 32,
   "id": "581eb0bb",
   "metadata": {},
   "outputs": [
    {
     "data": {
      "image/png": "[encoded data removed]",
      "text/plain": [
       "<Figure size 576x432 with 1 Axes>"
      ]
     },
     "metadata": {
      "needs_background": "light"
     },
     "output_type": "display_data"
    }
   ],
   "source": [
    "# Bar chart for total orders by age group\n",
    "plt.figure(figsize=(8, 6))\n",
    "plt.bar(orders_by_age['Age Group'], orders_by_age['Total_Orders'], color='teal', alpha=0.8)\n",
    "plt.title('Orders by Age Group')\n",
    "plt.xlabel('Age Group')\n",
    "plt.ylabel('Total Orders')\n",
    "plt.grid(axis='y')\n",
    "plt.show()"
   ]
  },
  {
   "cell_type": "code",
   "execution_count": 33,
   "id": "009c9830",
   "metadata": {},
   "outputs": [],
   "source": [
    "# Calculate total, completed, and canceled orders per user\n",
    "order_summary = order_details.groupby('User ID').agg(\n",
    "    Total_Orders=('Order ID', 'count'),\n",
    "    Completed_Orders=('Order Status', lambda x: (x == 'Completed').sum()),\n",
    "    Canceled_Orders=('Order Status', lambda x: (x == 'Canceled').sum())\n",
    ").reset_index()"
   ]
  },
  {
   "cell_type": "code",
   "execution_count": 34,
   "id": "fd15c415",
   "metadata": {},
   "outputs": [],
   "source": [
    "# Add cancellation ratio\n",
    "order_summary['Cancellation_Ratio'] = order_summary['Canceled_Orders'] / order_summary['Total_Orders']"
   ]
  },
  {
   "cell_type": "code",
   "execution_count": 35,
   "id": "8981f35e",
   "metadata": {},
   "outputs": [
    {
     "name": "stdout",
     "output_type": "stream",
     "text": [
      "  User ID  Total_Orders  Completed_Orders  Canceled_Orders  Cancellation_Ratio\n",
      "2    U003             3                 1                2            0.666667\n",
      "0    U001             3                 3                0            0.000000\n",
      "1    U002             3                 3                0            0.000000\n",
      "3    U004             2                 2                0            0.000000\n",
      "4    U005             2                 2                0            0.000000\n",
      "5    U006             1                 1                0            0.000000\n",
      "6    U007             1                 1                0            0.000000\n",
      "7    U008             1                 1                0            0.000000\n"
     ]
    }
   ],
   "source": [
    "# Display users with high cancellation ratios\n",
    "print(order_summary.sort_values('Cancellation_Ratio', ascending=False))"
   ]
  },
  {
   "cell_type": "code",
   "execution_count": 36,
   "id": "fccbf988",
   "metadata": {},
   "outputs": [],
   "source": [
    "# Merge order summary with user details\n",
    "user_behavior = order_summary.merge(user_details, on='User ID', how='left')"
   ]
  },
  {
   "cell_type": "code",
   "execution_count": 37,
   "id": "5c221eaf",
   "metadata": {},
   "outputs": [
    {
     "name": "stdout",
     "output_type": "stream",
     "text": [
      "  User ID  Total_Orders  Completed_Orders  Canceled_Orders  \\\n",
      "2    U003             3                 1                2   \n",
      "\n",
      "   Cancellation_Ratio    User Name  Age Location Registration Date  \\\n",
      "2            0.666667  Charlie Lee   42  Chicago        2023-03-10   \n",
      "\n",
      "          Phone              Email Favorite Meal  Total Orders Age Group  \n",
      "2  555-123-4567  charlie@email.com     Breakfast            15     40-42  \n"
     ]
    }
   ],
   "source": [
    "# Filter users with high cancellation ratios (e.g., greater than 50%)\n",
    "high_cancellation_users = user_behavior[user_behavior['Cancellation_Ratio'] > 0.5]\n",
    "\n",
    "print(high_cancellation_users)"
   ]
  },
  {
   "cell_type": "code",
   "execution_count": 38,
   "id": "898684f9",
   "metadata": {},
   "outputs": [
    {
     "data": {
      "image/png": "[encoded data removed]",
      "text/plain": [
       "<Figure size 576x432 with 1 Axes>"
      ]
     },
     "metadata": {
      "needs_background": "light"
     },
     "output_type": "display_data"
    }
   ],
   "source": [
    "# Bar chart for cancellation ratio per user\n",
    "plt.figure(figsize=(8, 6))\n",
    "plt.bar(user_behavior['User ID'], user_behavior['Cancellation_Ratio'], color='orange', alpha=0.8)\n",
    "plt.title('Cancellation Ratio by User')\n",
    "plt.xlabel('User ID')\n",
    "plt.ylabel('Cancellation Ratio')\n",
    "plt.grid(axis='y')\n",
    "plt.xticks(rotation=45)\n",
    "plt.show()"
   ]
  },
  {
   "cell_type": "code",
   "execution_count": 40,
   "id": "3eca2fa5",
   "metadata": {},
   "outputs": [
    {
     "name": "stdout",
     "output_type": "stream",
     "text": [
      "   Age  Completed Orders\n",
      "0   25                 1\n",
      "1   27                 2\n",
      "2   28                 3\n",
      "3   30                 2\n",
      "4   31                 1\n",
      "5   35                 3\n",
      "6   38                 1\n",
      "7   42                 1\n"
     ]
    }
   ],
   "source": [
    "# Merge completed orders with user details\n",
    "completed_user_data = completed_orders.merge(user_details, on='User ID', how='left')\n",
    "\n",
    "# Group by age and count the number of completed orders\n",
    "age_distribution = completed_user_data.groupby('Age').size().reset_index(name='Completed Orders')\n",
    "\n",
    "# Display results\n",
    "print(age_distribution)"
   ]
  },
  {
   "cell_type": "code",
   "execution_count": 41,
   "id": "d72f0d72",
   "metadata": {},
   "outputs": [
    {
     "data": {
      "image/png": "[encoded data removed]",
      "text/plain": [
       "<Figure size 576x432 with 1 Axes>"
      ]
     },
     "metadata": {
      "needs_background": "light"
     },
     "output_type": "display_data"
    }
   ],
   "source": [
    "# Bar chart for age distribution\n",
    "plt.figure(figsize=(8, 6))\n",
    "sns.barplot(x='Age', y='Completed Orders', data=age_distribution, palette='viridis')\n",
    "plt.title('Completed Orders by Age')\n",
    "plt.xlabel('Age')\n",
    "plt.ylabel('Number of Completed Orders')\n",
    "plt.show()"
   ]
  },
  {
   "cell_type": "code",
   "execution_count": 42,
   "id": "365e6bdc",
   "metadata": {},
   "outputs": [
    {
     "name": "stdout",
     "output_type": "stream",
     "text": [
      "        Location  Total_Orders  Avg_Order_Amount\n",
      "0         Austin             1         13.000000\n",
      "1         Boston             1         14.000000\n",
      "2        Chicago             3         10.666667\n",
      "3    Los Angeles             3         10.333333\n",
      "4          Miami             1         11.000000\n",
      "5       New York             3         11.666667\n",
      "6  San Francisco             2         10.750000\n",
      "7        Seattle             2         11.250000\n"
     ]
    }
   ],
   "source": [
    "# Group by Location\n",
    "orders_by_location = merged_orders.groupby('Location').agg(\n",
    "    Total_Orders=('Order ID', 'count'),\n",
    "    Avg_Order_Amount=('Amount (USD)', 'mean')\n",
    ").reset_index()\n",
    "\n",
    "print(orders_by_location)"
   ]
  },
  {
   "cell_type": "code",
   "execution_count": 43,
   "id": "ad1d60c6",
   "metadata": {},
   "outputs": [
    {
     "data": {
      "image/png": "[encoded data removed]",
      "text/plain": [
       "<Figure size 576x432 with 1 Axes>"
      ]
     },
     "metadata": {
      "needs_background": "light"
     },
     "output_type": "display_data"
    }
   ],
   "source": [
    "# Bar chart for total orders by location group\n",
    "plt.figure(figsize=(8, 6))\n",
    "plt.bar(orders_by_location['Location'], orders_by_location['Total_Orders'], color='teal', alpha=0.8)\n",
    "plt.title('Orders by Location')\n",
    "plt.xlabel('Location')\n",
    "plt.ylabel('Total Orders')\n",
    "plt.grid(axis='y')\n",
    "plt.show()"
   ]
  },
  {
   "cell_type": "code",
   "execution_count": 45,
   "id": "d8c5fddc",
   "metadata": {},
   "outputs": [
    {
     "name": "stdout",
     "output_type": "stream",
     "text": [
      "        Location  Completed Orders\n",
      "0         Austin                 1\n",
      "1         Boston                 1\n",
      "2        Chicago                 1\n",
      "3    Los Angeles                 3\n",
      "4          Miami                 1\n",
      "5       New York                 3\n",
      "6  San Francisco                 2\n",
      "7        Seattle                 2\n"
     ]
    }
   ],
   "source": [
    "# Group by location and count the number of completed orders\n",
    "location_distribution = completed_user_data.groupby('Location').size().reset_index(name='Completed Orders')\n",
    "\n",
    "# Display results\n",
    "print(location_distribution)"
   ]
  },
  {
   "cell_type": "code",
   "execution_count": 46,
   "id": "d846b1dc",
   "metadata": {},
   "outputs": [
    {
     "data": {
      "image/png": "[encoded data removed]",
      "text/plain": [
       "<Figure size 576x432 with 1 Axes>"
      ]
     },
     "metadata": {
      "needs_background": "light"
     },
     "output_type": "display_data"
    }
   ],
   "source": [
    "plt.figure(figsize=(8, 6))\n",
    "sns.barplot(x='Location', y='Completed Orders', data=location_distribution, palette='magma')\n",
    "plt.title('Completed Orders by Location')\n",
    "plt.xlabel('Location')\n",
    "plt.ylabel('Number of Completed Orders')\n",
    "plt.xticks(rotation=45)\n",
    "plt.show()"
   ]
  },
  {
   "cell_type": "code",
   "execution_count": null,
   "id": "14f2c69b",
   "metadata": {},
   "outputs": [],
   "source": []
  }
 ],
 "metadata": {
  "kernelspec": {
   "display_name": "Python 3",
   "language": "python",
   "name": "python3"
  },
  "language_info": {
   "codemirror_mode": {
    "name": "ipython",
    "version": 3
   },
   "file_extension": ".py",
   "mimetype": "text/x-python",
   "name": "python",
   "nbconvert_exporter": "python",
   "pygments_lexer": "ipython3",
   "version": "3.8.8"
  }
 },
 "nbformat": 4,
 "nbformat_minor": 5
}
